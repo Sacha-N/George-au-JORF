{
 "cells": [
  {
   "cell_type": "markdown",
   "metadata": {},
   "source": [
    "# Scrapping du bac\n",
    "\n",
    "Le but de ce document est de scrapper les résultats du bac sur le site : Le Parisien.\n",
    "\n",
    "On va commencer par installer toutes les librairies pertinentes pour le scrapping\n",
    "\n",
    "On va ensuite réaliser le corps du scrapping.\n",
    "\n",
    "Puis on va enregistrer les données scrappées."
   ]
  },
  {
   "cell_type": "code",
   "execution_count": 2,
   "metadata": {},
   "outputs": [
    {
     "name": "stdout",
     "output_type": "stream",
     "text": [
      "Requirement already satisfied: bs4 in /opt/conda/lib/python3.12/site-packages (0.0.2)\n",
      "Requirement already satisfied: beautifulsoup4 in /opt/conda/lib/python3.12/site-packages (from bs4) (4.12.3)\n",
      "Requirement already satisfied: soupsieve>1.2 in /opt/conda/lib/python3.12/site-packages (from beautifulsoup4->bs4) (2.5)\n",
      "Requirement already satisfied: openpyxl in /opt/conda/lib/python3.12/site-packages (3.1.5)\n",
      "Requirement already satisfied: et-xmlfile in /opt/conda/lib/python3.12/site-packages (from openpyxl) (2.0.0)\n"
     ]
    }
   ],
   "source": [
    "## Instllations package scrapping\n",
    "\n",
    "!pip install -q lxml\n",
    "!pip install bs4\n",
    "!pip install openpyxl\n",
    "\n",
    "## Installation pandas\n",
    "import numpy as np\n",
    "import pandas as pd\n",
    "import requests\n",
    "import bs4\n",
    "import openpyxl"
   ]
  },
  {
   "cell_type": "code",
   "execution_count": null,
   "metadata": {},
   "outputs": [],
   "source": [
    "acad = [\"aix-marseille\",\"amiens\",\"besancon\",\"bordeaux\",\"clermont-ferrand\",\"corse\",\"dijon\",\"grenoble\",\"guyane\",\"lille\",\"limoges\",\"lyon\",\"martinique\",\"mayotte\",\"montpellier\",\"nancy-metz\",\"nantes\",\"nice\",\"normandie\",\"orleans-tour\",\"paris-creteil-versailles\",\"poitiers\",\"reims\",\"rennes\",\"reunion\",\"strasbourg\",\"toulouse\"]\n",
    "ind_ac = 0 ## c'est l'indice qui correspond à la boucle pour les académies.\n",
    "tableau_mentions = pd.DataFrame(columns = [\"prenom\",\"academie\",\"ville\",\"mention\"]) #création du tableau vide\n",
    "\n",
    "\n",
    "while ind_ac < len(acad) : ## parcourir toutes les académies\n",
    "  academie = acad[ind_ac] # on mets l'academie courante\n",
    "  ind_page = 1 ## c'est l'indice de la page, initialisé sur la première\n",
    "  url = \"https://www.leparisien.fr/etudiant/examens/resultats/bac/\"+ academie+\"/BCG/all/\"+str(ind_page) + \"/\" ## c'est l'url de la page courante\n",
    "  request = requests.get(url).content\n",
    "  page = bs4.BeautifulSoup(request, \"lxml\") ## c'est la page courante\n",
    "\n",
    "  while len(page.findAll(\"span\",{\"class\" : \"exam_search-results_list_result pt_2 pb_2\"})) !=0 : ## test pour savoir si la page est vide ou non\n",
    "    page_tab = page.findAll(\"span\",{\"class\" : \"exam_search-results_list_result pt_2 pb_2\"}) ## extraction du tableau de la page\n",
    "\n",
    "    for k in range(len(page_tab)) :\n",
    "      personne = page_tab[k]\n",
    "      prenom = personne.findAll(\"span\",{\"class\" : \"capitalize\"})[0].text\n",
    "      ville = personne.findAll(\"span\",{\"class\" : \"capitalize\"})[1].text\n",
    "      mention = personne.find(\"div\",{\"class\" : \"exam_search-results_list_result_right_admission ff_gct fw_sb fs_16_24 false\"}).text\n",
    "      tableau_mentions.loc[len(tableau_mentions)] = [prenom,academie,ville,mention]\n",
    "    k=0\n",
    "    ind_page +=1 # on avance d'une page\n",
    "    url = \"https://www.leparisien.fr/etudiant/examens/resultats/bac/\"+ academie+\"/BCG/all/\"+str(ind_page) + \"/\" ## on actualise la page courante\n",
    "    request = requests.get(url).content\n",
    "    page = bs4.BeautifulSoup(request, \"lxml\")\n",
    "  ind_ac +=1 ## on avance d'une académie"
   ]
  },
  {
   "cell_type": "code",
   "execution_count": 1,
   "metadata": {},
   "outputs": [
    {
     "ename": "NameError",
     "evalue": "name 'tableau_mentions' is not defined",
     "output_type": "error",
     "traceback": [
      "\u001b[0;31m---------------------------------------------------------------------------\u001b[0m",
      "\u001b[0;31mNameError\u001b[0m                                 Traceback (most recent call last)",
      "Cell \u001b[0;32mIn[1], line 1\u001b[0m\n\u001b[0;32m----> 1\u001b[0m \u001b[43mtableau_mentions\u001b[49m\u001b[38;5;241m.\u001b[39mto_excel(\u001b[38;5;124m\"\u001b[39m\u001b[38;5;124mtab_mentions.xlsx\u001b[39m\u001b[38;5;124m\"\u001b[39m)\n",
      "\u001b[0;31mNameError\u001b[0m: name 'tableau_mentions' is not defined"
     ]
    }
   ],
   "source": [
    "tableau_mentions.to_excel(\"tab_mentions.xlsx\")"
   ]
  }
 ],
 "metadata": {
  "kernelspec": {
   "display_name": "base",
   "language": "python",
   "name": "python3"
  },
  "language_info": {
   "codemirror_mode": {
    "name": "ipython",
    "version": 3
   },
   "file_extension": ".py",
   "mimetype": "text/x-python",
   "name": "python",
   "nbconvert_exporter": "python",
   "pygments_lexer": "ipython3",
   "version": "3.12.7"
  }
 },
 "nbformat": 4,
 "nbformat_minor": 2
}
